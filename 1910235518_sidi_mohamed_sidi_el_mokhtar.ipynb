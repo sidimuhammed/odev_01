{
 "cells": [
  {
   "cell_type": "markdown",
   "id": "77321c10-8fb9-438d-8be6-5421349b5335",
   "metadata": {},
   "source": [
    "Kullancidan veri almak."
   ]
  },
  {
   "cell_type": "code",
   "execution_count": 1,
   "id": "b878b695-829f-4e8c-8950-15fcdd5b910f",
   "metadata": {
    "tags": []
   },
   "outputs": [
    {
     "name": "stdin",
     "output_type": "stream",
     "text": [
      "Enter your name:  sidi\n"
     ]
    },
    {
     "name": "stdout",
     "output_type": "stream",
     "text": [
      "hello sidi\n"
     ]
    }
   ],
   "source": [
    "isim=input(\"Enter your name: \")\n",
    "print(\"Hello\",isim)"
   ]
  },
  {
   "cell_type": "code",
   "execution_count": 5,
   "id": "b5249cfa-e898-46f0-8ae7-959ae6c2d42d",
   "metadata": {
    "tags": []
   },
   "outputs": [
    {
     "name": "stdin",
     "output_type": "stream",
     "text": [
      "Enter your age:  22\n"
     ]
    },
    {
     "name": "stdout",
     "output_type": "stream",
     "text": [
      "your age is 22\n"
     ]
    }
   ],
   "source": [
    "age=int(input(\"Enter your age: \"))\n",
    "print(\"Your age is\",age)"
   ]
  },
  {
   "cell_type": "code",
   "execution_count": 13,
   "id": "aa7e2079-461a-41f2-8719-b607234fd057",
   "metadata": {
    "tags": []
   },
   "outputs": [
    {
     "name": "stdin",
     "output_type": "stream",
     "text": [
      "Enter your name: muhammed\n",
      "Enter your age: 20\n"
     ]
    },
    {
     "name": "stdout",
     "output_type": "stream",
     "text": [
      "Hello your name is muhammed And you are 20 years old\n"
     ]
    }
   ],
   "source": [
    "name=input(\"Enter your name:\")\n",
    "age=int(input(\"Enter your age:\"))\n",
    "print(\"Hello your name is\",name,\"And you are\",age,\"years old\")"
   ]
  },
  {
   "cell_type": "code",
   "execution_count": null,
   "id": "d8a6293e-02a5-4c67-aaad-b83d61dcdff9",
   "metadata": {},
   "outputs": [],
   "source": []
  }
 ],
 "metadata": {
  "kernelspec": {
   "display_name": "Python 3 (ipykernel)",
   "language": "python",
   "name": "python3"
  },
  "language_info": {
   "codemirror_mode": {
    "name": "ipython",
    "version": 3
   },
   "file_extension": ".py",
   "mimetype": "text/x-python",
   "name": "python",
   "nbconvert_exporter": "python",
   "pygments_lexer": "ipython3",
   "version": "3.11.5"
  }
 },
 "nbformat": 4,
 "nbformat_minor": 5
}
